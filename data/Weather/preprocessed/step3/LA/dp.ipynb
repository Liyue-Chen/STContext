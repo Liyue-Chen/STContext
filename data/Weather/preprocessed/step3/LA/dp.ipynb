{
 "metadata": {
  "language_info": {
   "codemirror_mode": {
    "name": "ipython",
    "version": 3
   },
   "file_extension": ".py",
   "mimetype": "text/x-python",
   "name": "python",
   "nbconvert_exporter": "python",
   "pygments_lexer": "ipython3",
   "version": "3.7.3-final"
  },
  "orig_nbformat": 2,
  "kernelspec": {
   "name": "python3",
   "display_name": "Python 3.7.3 64-bit",
   "metadata": {
    "interpreter": {
     "hash": "06d863d16da077c954af9c34758e63616cc34a8b612c8b6a693947ebeb9b8508"
    }
   }
  }
 },
 "nbformat": 4,
 "nbformat_minor": 2,
 "cells": [
  {
   "cell_type": "code",
   "execution_count": 25,
   "metadata": {},
   "outputs": [],
   "source": [
    "import pandas as pd\n",
    "\n",
    "df = pd.read_csv('LAWeather_1h.csv')\n"
   ]
  },
  {
   "cell_type": "code",
   "execution_count": 26,
   "metadata": {},
   "outputs": [],
   "source": [
    "columns = df.columns"
   ]
  },
  {
   "cell_type": "code",
   "execution_count": 27,
   "metadata": {},
   "outputs": [
    {
     "output_type": "execute_result",
     "data": {
      "text/plain": [
       "Index(['key', 'class', 'expire_time_gmt', 'obs_id', 'obs_name',\n",
       "       'valid_time_gmt', 'day_ind', 'temp', 'wx_icon', 'icon_extd',\n",
       "       'wx_phrase', 'pressure_tend', 'pressure_desc', 'dewPt', 'heat_index',\n",
       "       'rh', 'pressure', 'vis', 'wc', 'wdir', 'wdir_cardinal', 'gust', 'wspd',\n",
       "       'max_temp', 'min_temp', 'precip_total', 'precip_hrly', 'snow_hrly',\n",
       "       'uv_desc', 'feels_like', 'uv_index', 'qualifier', 'qualifier_svrty',\n",
       "       'blunt_phrase', 'terse_phrase', 'clds', 'water_temp',\n",
       "       'primary_wave_period', 'primary_wave_height', 'primary_swell_period',\n",
       "       'primary_swell_height', 'primary_swell_direction',\n",
       "       'secondary_swell_period', 'secondary_swell_height',\n",
       "       'secondary_swell_direction'],\n",
       "      dtype='object')"
      ]
     },
     "metadata": {},
     "execution_count": 27
    }
   ],
   "source": [
    "columns"
   ]
  },
  {
   "cell_type": "code",
   "execution_count": 28,
   "metadata": {},
   "outputs": [
    {
     "output_type": "stream",
     "name": "stdout",
     "text": [
      "NA rate of column key is 0.0\nNA rate of column class is 0.0\nNA rate of column expire_time_gmt is 0.0\nNA rate of column obs_id is 0.0\nNA rate of column obs_name is 0.0\nNA rate of column valid_time_gmt is 0.0\nNA rate of column day_ind is 0.0\nNA rate of column temp is 0.0\nNA rate of column wx_icon is 0.0\nNA rate of column icon_extd is 0.0\nNA rate of column wx_phrase is 0.0\nNA rate of column pressure_tend is 0.6949270326615705\nNA rate of column pressure_desc is 0.6945795691452398\nNA rate of column dewPt is 0.013551077136900626\nNA rate of column heat_index is 0.0\nNA rate of column rh is 0.0\nNA rate of column pressure is 0.0\nNA rate of column vis is 0.0\nNA rate of column wc is 0.0\nNA rate of column wdir is 0.26129256428075054\nNA rate of column wdir_cardinal is 0.0\nNA rate of column gust is 0.9593467685892981\nNA rate of column wspd is 0.22341904100069493\nNA rate of column max_temp is 0.8099374565670605\nNA rate of column min_temp is 0.8099374565670605\nNA rate of column precip_total is 1.0\nNA rate of column precip_hrly is 0.9645587213342599\nNA rate of column snow_hrly is 1.0\nNA rate of column uv_desc is 0.15740097289784571\nNA rate of column feels_like is 0.0\nNA rate of column uv_index is 0.0\nNA rate of column qualifier is 1.0\nNA rate of column qualifier_svrty is 1.0\nNA rate of column blunt_phrase is 1.0\nNA rate of column terse_phrase is 1.0\nNA rate of column clds is 0.0\nNA rate of column water_temp is 1.0\nNA rate of column primary_wave_period is 1.0\nNA rate of column primary_wave_height is 1.0\nNA rate of column primary_swell_period is 1.0\nNA rate of column primary_swell_height is 1.0\nNA rate of column primary_swell_direction is 1.0\nNA rate of column secondary_swell_period is 1.0\nNA rate of column secondary_swell_height is 1.0\nNA rate of column secondary_swell_direction is 1.0\n"
     ]
    }
   ],
   "source": [
    "na_rate = {}\n",
    "for column in columns:\n",
    "    na_rate[column] = sum(pd.isna(df[column]))/df.shape[0]\n",
    "    print('NA rate of column {} is {}'.format(column,sum(pd.isna(df[column]))/df.shape[0]))"
   ]
  },
  {
   "cell_type": "code",
   "execution_count": 29,
   "metadata": {},
   "outputs": [],
   "source": [
    "threshold = 0.5 # NA rate lower than threshold we will take further action\n",
    "target_column_list = []\n",
    "for key,value in zip(na_rate.keys(),na_rate.values()):\n",
    "    if value < threshold:\n",
    "        target_column_list.append(key)"
   ]
  },
  {
   "cell_type": "code",
   "execution_count": 30,
   "metadata": {},
   "outputs": [],
   "source": [
    "df_1 = df[target_column_list]"
   ]
  },
  {
   "cell_type": "code",
   "execution_count": 31,
   "metadata": {},
   "outputs": [
    {
     "output_type": "stream",
     "name": "stdout",
     "text": [
      "KBUR    2878\nName: key, dtype: int64\nobservation    2878\nName: class, dtype: int64\n2012/2/29 23:53    1\n2012/5/20 13:53    1\n2012/5/19 17:53    1\n2012/5/19 18:53    1\n2012/5/19 19:53    1\n                  ..\n2012/4/10 1:53     1\n2012/4/10 2:53     1\n2012/4/10 3:53     1\n2012/4/10 4:53     1\n2012/6/28 21:53    1\nName: expire_time_gmt, Length: 2878, dtype: int64\nKBUR    2878\nName: obs_id, dtype: int64\nBurbank    2878\nName: obs_name, dtype: int64\n2012022923    1\n2012052013    1\n2012051917    1\n2012051918    1\n2012051919    1\n             ..\n2012041001    1\n2012041002    1\n2012041003    1\n2012041004    1\n2012062821    1\nName: valid_time_gmt, Length: 2878, dtype: int64\nD    1613\nN    1265\nName: day_ind, dtype: int64\n60.000000    167\n59.000000    165\n61.000000    142\n58.000000    129\n62.000000    129\n            ... \n46.250000      1\n47.500000      1\n52.333333      1\n44.500000      1\n87.000000      1\nName: temp, Length: 101, dtype: int64\n34    1199\n33     849\n26     588\n28      76\n30      69\n27      58\n29      39\nName: wx_icon, dtype: int64\n3400    1199\n3300     844\n2600     583\n2800      76\n3000      69\n2700      58\n2900      39\n3390       5\n2690       5\nName: icon_extd, dtype: int64\n100000000     2043\n1000000000     825\n100010000        5\n1000010000       5\nName: wx_phrase, dtype: int64\n55.000000    263\n54.000000    244\n53.000000    183\n56.000000    167\n50.000000    157\n            ... \n29.500000      1\n42.666667      1\n42.500000      1\n48.666667      1\n48.750000      1\nName: dewPt, Length: 102, dtype: int64\n60.000000    167\n59.000000    165\n61.000000    142\n58.000000    129\n62.000000    129\n            ... \n46.250000      1\n47.500000      1\n52.333333      1\n44.500000      1\n87.000000      1\nName: heat_index, Length: 101, dtype: int64\n83.000000    154\n80.000000    107\n78.000000     84\n75.000000     78\n86.000000     75\n            ... \n94.333333      1\n90.333333      1\n74.750000      1\n89.500000      1\n89.666667      1\nName: rh, Length: 159, dtype: int64\n29.090000    141\n29.070000    128\n29.050000    114\n29.170000    106\n29.080000    105\n            ... \n28.883333      1\n28.935000      1\n28.882500      1\n29.076667      1\n29.207500      1\nName: pressure, Length: 127, dtype: int64\n10.000000    2251\n7.000000       96\n8.000000       88\n9.000000       86\n5.000000       79\n6.000000       77\n4.000000       54\n3.000000       46\n2.000000       20\n8.500000       10\n1.000000        8\n6.500000        8\n9.500000        7\n7.500000        6\n2.500000        5\n4.500000        5\n7.333333        5\n5.500000        5\n7.666667        3\n3.666667        3\n8.333333        2\n5.333333        2\n3.500000        2\n4.333333        1\n9.333333        1\n8.666667        1\n7.250000        1\n9.666667        1\n3.333333        1\n2.666667        1\n1.500000        1\n1.700000        1\n7.750000        1\nName: vis, dtype: int64\n60.000000    167\n59.000000    165\n61.000000    142\n62.000000    129\n58.000000    129\n            ... \n51.666667      1\n52.500000      1\n37.000000      1\n93.000000      1\n87.000000      1\nName: wc, Length: 102, dtype: int64\n180.0    350\n170.0    249\n160.0    173\n130.0    162\n140.0    141\n190.0    135\n120.0    135\n150.0    124\n110.0    112\n100.0     77\n200.0     62\n90.0      46\n210.0     34\n340.0     30\n330.0     29\n300.0     26\n310.0     23\n290.0     21\n280.0     21\n320.0     18\n220.0     17\n80.0      17\n260.0     15\n360.0     14\n270.0     14\n10.0      13\n250.0     13\n70.0      11\n350.0     11\n230.0      8\n240.0      8\n20.0       6\n60.0       4\n50.0       3\n40.0       2\n30.0       2\nName: wdir, dtype: int64\nS       734\nCALM    613\nSE      303\nSSE     297\nESE     247\nE       140\nVAR     139\nSSW      96\nNNW      59\nW        50\nWNW      47\nNW       41\nN        38\nSW       25\nWSW      21\nENE      15\nNNE       8\nNE        5\nName: wdir_cardinal, dtype: int64\n3.000000     376\n5.000000     315\n6.000000     274\n8.000000     271\n7.000000     253\n9.000000     212\n10.000000    179\n12.000000    110\n13.000000     70\n14.000000     29\n4.000000      16\n16.000000     15\n6.500000      13\n5.500000      13\n15.000000     13\n7.500000      12\n18.000000      8\n20.000000      7\n17.000000      5\n21.000000      3\n9.500000       3\n11.500000      2\n6.666667       2\n5.333333       2\n4.500000       2\n22.000000      2\n13.500000      2\n14.500000      2\n4.333333       2\n5.666667       2\n7.666667       2\n19.500000      1\n7.333333       1\n3.666667       1\n11.000000      1\n8.666667       1\n3.500000       1\n18.500000      1\n16.333333      1\n12.666667      1\n12.500000      1\n16.500000      1\n23.000000      1\n15.500000      1\n8.333333       1\n6.600000       1\n7.250000       1\n9.833333       1\n4.666667       1\nName: wspd, dtype: int64\nLow    2425\nName: uv_desc, dtype: int64\n60.000000    167\n59.000000    165\n61.000000    142\n62.000000    129\n58.000000    129\n            ... \n51.666667      1\n52.500000      1\n37.000000      1\n93.000000      1\n87.000000      1\nName: feels_like, Length: 102, dtype: int64\n 0.0      2417\n-5.0        23\n-76.0       11\n-17.0       10\n-16.0        9\n          ... \n-277.0       1\n-482.0       1\n-525.0       1\n-377.0       1\n-101.0       1\nName: uv_index, Length: 273, dtype: int64\nCLR    1974\nOVC     588\nBKN     134\nSCT     108\nFEW      74\nName: clds, dtype: int64\n"
     ]
    }
   ],
   "source": [
    "for column in target_column_list:\n",
    "    print(df_1[column].value_counts())"
   ]
  },
  {
   "cell_type": "code",
   "execution_count": 22,
   "metadata": {},
   "outputs": [],
   "source": [
    "df_ffill = df_1.fillna(method='ffill')\n",
    "df_bfill = df_ffill.fillna(method='bfill')\n"
   ]
  },
  {
   "cell_type": "code",
   "execution_count": 23,
   "metadata": {},
   "outputs": [
    {
     "output_type": "execute_result",
     "data": {
      "text/plain": [
       "       key        class  expire_time_gmt  ... feels_like uv_index  clds\n",
       "0     KBUR  observation  2012/2/29 23:53  ...       52.0      0.0   OVC\n",
       "1     KBUR  observation    2012/3/1 0:46  ...       52.0      0.0   OVC\n",
       "2     KBUR  observation    2012/3/1 1:31  ...       51.5      0.0   OVC\n",
       "3     KBUR  observation    2012/3/1 2:53  ...       50.0      0.0   BKN\n",
       "4     KBUR  observation    2012/3/1 3:53  ...       49.0      0.0   OVC\n",
       "...    ...          ...              ...  ...        ...      ...   ...\n",
       "2874  KBUR  observation  2012/6/28 17:53  ...       83.0      0.0   CLR\n",
       "2875  KBUR  observation  2012/6/28 18:53  ...       80.0      0.0   CLR\n",
       "2876  KBUR  observation  2012/6/28 19:53  ...       76.0      0.0   CLR\n",
       "2877  KBUR  observation  2012/6/28 20:53  ...       71.0      0.0   CLR\n",
       "2878  KBUR  observation  2012/6/28 21:53  ...       69.0      0.0   CLR\n",
       "\n",
       "[2879 rows x 24 columns]"
      ],
      "text/html": "<div>\n<style scoped>\n    .dataframe tbody tr th:only-of-type {\n        vertical-align: middle;\n    }\n\n    .dataframe tbody tr th {\n        vertical-align: top;\n    }\n\n    .dataframe thead th {\n        text-align: right;\n    }\n</style>\n<table border=\"1\" class=\"dataframe\">\n  <thead>\n    <tr style=\"text-align: right;\">\n      <th></th>\n      <th>key</th>\n      <th>class</th>\n      <th>expire_time_gmt</th>\n      <th>obs_id</th>\n      <th>obs_name</th>\n      <th>valid_time_gmt</th>\n      <th>day_ind</th>\n      <th>temp</th>\n      <th>wx_icon</th>\n      <th>icon_extd</th>\n      <th>wx_phrase</th>\n      <th>dewPt</th>\n      <th>heat_index</th>\n      <th>rh</th>\n      <th>pressure</th>\n      <th>vis</th>\n      <th>wc</th>\n      <th>wdir</th>\n      <th>wdir_cardinal</th>\n      <th>wspd</th>\n      <th>uv_desc</th>\n      <th>feels_like</th>\n      <th>uv_index</th>\n      <th>clds</th>\n    </tr>\n  </thead>\n  <tbody>\n    <tr>\n      <th>0</th>\n      <td>KBUR</td>\n      <td>observation</td>\n      <td>2012/2/29 23:53</td>\n      <td>KBUR</td>\n      <td>Burbank</td>\n      <td>2012022923</td>\n      <td>N</td>\n      <td>52.0</td>\n      <td>26</td>\n      <td>2600</td>\n      <td>1000000000</td>\n      <td>46.0</td>\n      <td>52.0</td>\n      <td>80.0</td>\n      <td>29.31</td>\n      <td>10.0</td>\n      <td>52.0</td>\n      <td>230.0</td>\n      <td>CALM</td>\n      <td>4.0</td>\n      <td>Low</td>\n      <td>52.0</td>\n      <td>0.0</td>\n      <td>OVC</td>\n    </tr>\n    <tr>\n      <th>1</th>\n      <td>KBUR</td>\n      <td>observation</td>\n      <td>2012/3/1 0:46</td>\n      <td>KBUR</td>\n      <td>Burbank</td>\n      <td>2012030100</td>\n      <td>N</td>\n      <td>52.0</td>\n      <td>26</td>\n      <td>2600</td>\n      <td>1000000000</td>\n      <td>45.0</td>\n      <td>52.0</td>\n      <td>76.5</td>\n      <td>29.32</td>\n      <td>10.0</td>\n      <td>52.0</td>\n      <td>230.0</td>\n      <td>SW</td>\n      <td>4.0</td>\n      <td>Low</td>\n      <td>52.0</td>\n      <td>0.0</td>\n      <td>OVC</td>\n    </tr>\n    <tr>\n      <th>2</th>\n      <td>KBUR</td>\n      <td>observation</td>\n      <td>2012/3/1 1:31</td>\n      <td>KBUR</td>\n      <td>Burbank</td>\n      <td>2012030101</td>\n      <td>N</td>\n      <td>51.5</td>\n      <td>26</td>\n      <td>2600</td>\n      <td>1000000000</td>\n      <td>45.0</td>\n      <td>51.5</td>\n      <td>78.0</td>\n      <td>29.31</td>\n      <td>10.0</td>\n      <td>51.5</td>\n      <td>230.0</td>\n      <td>CALM</td>\n      <td>4.0</td>\n      <td>Low</td>\n      <td>51.5</td>\n      <td>0.0</td>\n      <td>OVC</td>\n    </tr>\n    <tr>\n      <th>3</th>\n      <td>KBUR</td>\n      <td>observation</td>\n      <td>2012/3/1 2:53</td>\n      <td>KBUR</td>\n      <td>Burbank</td>\n      <td>2012030102</td>\n      <td>N</td>\n      <td>50.0</td>\n      <td>27</td>\n      <td>2700</td>\n      <td>1000000000</td>\n      <td>44.0</td>\n      <td>50.0</td>\n      <td>80.0</td>\n      <td>29.28</td>\n      <td>10.0</td>\n      <td>50.0</td>\n      <td>280.0</td>\n      <td>W</td>\n      <td>3.0</td>\n      <td>Low</td>\n      <td>50.0</td>\n      <td>0.0</td>\n      <td>BKN</td>\n    </tr>\n    <tr>\n      <th>4</th>\n      <td>KBUR</td>\n      <td>observation</td>\n      <td>2012/3/1 3:53</td>\n      <td>KBUR</td>\n      <td>Burbank</td>\n      <td>2012030103</td>\n      <td>N</td>\n      <td>49.0</td>\n      <td>26</td>\n      <td>2600</td>\n      <td>1000000000</td>\n      <td>44.0</td>\n      <td>49.0</td>\n      <td>83.0</td>\n      <td>29.28</td>\n      <td>10.0</td>\n      <td>49.0</td>\n      <td>280.0</td>\n      <td>CALM</td>\n      <td>3.0</td>\n      <td>Low</td>\n      <td>49.0</td>\n      <td>0.0</td>\n      <td>OVC</td>\n    </tr>\n    <tr>\n      <th>...</th>\n      <td>...</td>\n      <td>...</td>\n      <td>...</td>\n      <td>...</td>\n      <td>...</td>\n      <td>...</td>\n      <td>...</td>\n      <td>...</td>\n      <td>...</td>\n      <td>...</td>\n      <td>...</td>\n      <td>...</td>\n      <td>...</td>\n      <td>...</td>\n      <td>...</td>\n      <td>...</td>\n      <td>...</td>\n      <td>...</td>\n      <td>...</td>\n      <td>...</td>\n      <td>...</td>\n      <td>...</td>\n      <td>...</td>\n      <td>...</td>\n    </tr>\n    <tr>\n      <th>2874</th>\n      <td>KBUR</td>\n      <td>observation</td>\n      <td>2012/6/28 17:53</td>\n      <td>KBUR</td>\n      <td>Burbank</td>\n      <td>2012062817</td>\n      <td>D</td>\n      <td>83.0</td>\n      <td>34</td>\n      <td>3400</td>\n      <td>100000000</td>\n      <td>46.0</td>\n      <td>83.0</td>\n      <td>27.0</td>\n      <td>29.10</td>\n      <td>10.0</td>\n      <td>83.0</td>\n      <td>160.0</td>\n      <td>SSE</td>\n      <td>10.0</td>\n      <td>Low</td>\n      <td>83.0</td>\n      <td>0.0</td>\n      <td>CLR</td>\n    </tr>\n    <tr>\n      <th>2875</th>\n      <td>KBUR</td>\n      <td>observation</td>\n      <td>2012/6/28 18:53</td>\n      <td>KBUR</td>\n      <td>Burbank</td>\n      <td>2012062818</td>\n      <td>D</td>\n      <td>80.0</td>\n      <td>34</td>\n      <td>3400</td>\n      <td>100000000</td>\n      <td>47.0</td>\n      <td>80.0</td>\n      <td>31.0</td>\n      <td>29.10</td>\n      <td>10.0</td>\n      <td>80.0</td>\n      <td>180.0</td>\n      <td>S</td>\n      <td>8.0</td>\n      <td>Low</td>\n      <td>80.0</td>\n      <td>0.0</td>\n      <td>CLR</td>\n    </tr>\n    <tr>\n      <th>2876</th>\n      <td>KBUR</td>\n      <td>observation</td>\n      <td>2012/6/28 19:53</td>\n      <td>KBUR</td>\n      <td>Burbank</td>\n      <td>2012062819</td>\n      <td>D</td>\n      <td>76.0</td>\n      <td>34</td>\n      <td>3400</td>\n      <td>100000000</td>\n      <td>46.0</td>\n      <td>76.0</td>\n      <td>35.0</td>\n      <td>29.11</td>\n      <td>10.0</td>\n      <td>76.0</td>\n      <td>130.0</td>\n      <td>SE</td>\n      <td>10.0</td>\n      <td>Low</td>\n      <td>76.0</td>\n      <td>0.0</td>\n      <td>CLR</td>\n    </tr>\n    <tr>\n      <th>2877</th>\n      <td>KBUR</td>\n      <td>observation</td>\n      <td>2012/6/28 20:53</td>\n      <td>KBUR</td>\n      <td>Burbank</td>\n      <td>2012062820</td>\n      <td>N</td>\n      <td>71.0</td>\n      <td>33</td>\n      <td>3300</td>\n      <td>100000000</td>\n      <td>53.0</td>\n      <td>71.0</td>\n      <td>53.0</td>\n      <td>29.13</td>\n      <td>10.0</td>\n      <td>71.0</td>\n      <td>130.0</td>\n      <td>SE</td>\n      <td>7.0</td>\n      <td>Low</td>\n      <td>71.0</td>\n      <td>0.0</td>\n      <td>CLR</td>\n    </tr>\n    <tr>\n      <th>2878</th>\n      <td>KBUR</td>\n      <td>observation</td>\n      <td>2012/6/28 21:53</td>\n      <td>KBUR</td>\n      <td>Burbank</td>\n      <td>2012062821</td>\n      <td>N</td>\n      <td>69.0</td>\n      <td>33</td>\n      <td>3300</td>\n      <td>100000000</td>\n      <td>54.0</td>\n      <td>69.0</td>\n      <td>58.0</td>\n      <td>29.14</td>\n      <td>10.0</td>\n      <td>69.0</td>\n      <td>110.0</td>\n      <td>ESE</td>\n      <td>5.0</td>\n      <td>Low</td>\n      <td>69.0</td>\n      <td>0.0</td>\n      <td>CLR</td>\n    </tr>\n  </tbody>\n</table>\n<p>2879 rows × 24 columns</p>\n</div>"
     },
     "metadata": {},
     "execution_count": 23
    }
   ],
   "source": [
    "df_bfill"
   ]
  },
  {
   "cell_type": "code",
   "execution_count": null,
   "metadata": {},
   "outputs": [],
   "source": [
    "weather_dataset = {}\n",
    "time_range = None\n",
    "time_fitness = None\n",
    "weather_value = None\n",
    "weather_info = None\n",
    "\n",
    "\n",
    "weather_dataset['TimeRange'] = time_range\n",
    "weather_dataset['TimeFitness'] = time_fitness\n",
    "weather_dataset['WeatherValue'] = weather_value\n",
    "weather_dataset['WeatherInfo'] = weather_info"
   ]
  }
 ]
}